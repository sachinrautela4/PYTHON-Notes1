{
 "cells": [
  {
   "cell_type": "code",
   "execution_count": 1,
   "id": "fa010be2-e379-4814-b758-9ff1001575fa",
   "metadata": {},
   "outputs": [],
   "source": [
    "#dictionary is a data structure that stores data as key value pair\n",
    "#Keys are unique and immutable\n",
    "\n",
    "#Note:dictionaries are unordered. but from Python 3.7 version, dictionaries retain the order of insertion. \n",
    "#This means that if you iterate over a dictionary, the items will be returned in the order they were added."
   ]
  },
  {
   "cell_type": "code",
   "execution_count": 2,
   "id": "266dcb5c-8a99-4d28-a4ea-7a7f5be41369",
   "metadata": {},
   "outputs": [
    {
     "data": {
      "text/plain": [
       "dict"
      ]
     },
     "execution_count": 2,
     "metadata": {},
     "output_type": "execute_result"
    }
   ],
   "source": [
    "d = {}\n",
    "type(d)"
   ]
  },
  {
   "cell_type": "code",
   "execution_count": 3,
   "id": "e1124ea6-7f88-4355-acb4-b5424a74a559",
   "metadata": {},
   "outputs": [],
   "source": [
    "d = {\"name\":\"Ajay\", \"email\":\"aj@gmail.com\", \"contact\": 1234}"
   ]
  },
  {
   "cell_type": "code",
   "execution_count": 4,
   "id": "0c5a2d95-d5b6-49ba-a311-2bebfb64d1f5",
   "metadata": {},
   "outputs": [
    {
     "data": {
      "text/plain": [
       "{'name': 'Ajay', 'email': 'aj@gmail.com', 'contact': 1234}"
      ]
     },
     "execution_count": 4,
     "metadata": {},
     "output_type": "execute_result"
    }
   ],
   "source": [
    "d"
   ]
  },
  {
   "cell_type": "code",
   "execution_count": 5,
   "id": "326f41b5-3a02-41ed-8757-e11aa4a4cbdb",
   "metadata": {},
   "outputs": [
    {
     "data": {
      "text/plain": [
       "dict"
      ]
     },
     "execution_count": 5,
     "metadata": {},
     "output_type": "execute_result"
    }
   ],
   "source": [
    "type(d)"
   ]
  },
  {
   "cell_type": "code",
   "execution_count": 6,
   "id": "e7f0edf0-fd24-4a6f-a330-f47f5ebe6bdb",
   "metadata": {},
   "outputs": [
    {
     "data": {
      "text/plain": [
       "1"
      ]
     },
     "execution_count": 6,
     "metadata": {},
     "output_type": "execute_result"
    }
   ],
   "source": [
    "l = [1, 2, 3, 4]\n",
    "l[0]"
   ]
  },
  {
   "cell_type": "code",
   "execution_count": 8,
   "id": "686f699d-9df1-43ce-9d19-061511a30966",
   "metadata": {},
   "outputs": [
    {
     "data": {
      "text/plain": [
       "'Ajay'"
      ]
     },
     "execution_count": 8,
     "metadata": {},
     "output_type": "execute_result"
    }
   ],
   "source": [
    "d['name']"
   ]
  },
  {
   "cell_type": "code",
   "execution_count": 9,
   "id": "3d304c9b-f325-40d1-b3ee-1b2ae340ac34",
   "metadata": {},
   "outputs": [
    {
     "data": {
      "text/plain": [
       "'aj@gmail.com'"
      ]
     },
     "execution_count": 9,
     "metadata": {},
     "output_type": "execute_result"
    }
   ],
   "source": [
    "d[\"email\"]"
   ]
  },
  {
   "cell_type": "code",
   "execution_count": 10,
   "id": "d9fe441b-b208-4751-bda7-4b0b63550cfb",
   "metadata": {},
   "outputs": [
    {
     "data": {
      "text/plain": [
       "{'name': 'Ajay', 'email': 'aj@gmail.com', 'contact': 1234}"
      ]
     },
     "execution_count": 10,
     "metadata": {},
     "output_type": "execute_result"
    }
   ],
   "source": [
    "d"
   ]
  },
  {
   "cell_type": "code",
   "execution_count": 12,
   "id": "b13ecef7-c9bf-4749-98e8-f7882cfb700b",
   "metadata": {},
   "outputs": [],
   "source": [
    "d['name'] = \"Bikay\""
   ]
  },
  {
   "cell_type": "code",
   "execution_count": 13,
   "id": "9e6e5fc6-cfc6-49f7-945c-96f1c34b07f7",
   "metadata": {},
   "outputs": [
    {
     "data": {
      "text/plain": [
       "{'name': 'Bikay', 'email': 'aj@gmail.com', 'contact': 1234}"
      ]
     },
     "execution_count": 13,
     "metadata": {},
     "output_type": "execute_result"
    }
   ],
   "source": [
    "d"
   ]
  },
  {
   "cell_type": "code",
   "execution_count": 14,
   "id": "c143a80e-118c-4e17-a44d-8b173f5b4944",
   "metadata": {},
   "outputs": [],
   "source": [
    "d = {\"address\": \"26th cross, banaglaore\"}"
   ]
  },
  {
   "cell_type": "code",
   "execution_count": 15,
   "id": "878f5125-b9a0-4356-bf1d-b15a0af8dd26",
   "metadata": {},
   "outputs": [
    {
     "data": {
      "text/plain": [
       "'26th cross, banaglaore'"
      ]
     },
     "execution_count": 15,
     "metadata": {},
     "output_type": "execute_result"
    }
   ],
   "source": [
    "d[\"address\"]"
   ]
  },
  {
   "cell_type": "code",
   "execution_count": 16,
   "id": "f62c4eb5-509d-499e-a6cb-ed5512e29463",
   "metadata": {},
   "outputs": [],
   "source": [
    "d = {\"key\": 1}"
   ]
  },
  {
   "cell_type": "code",
   "execution_count": 17,
   "id": "a3075769-063b-4045-a7a0-803d3db2e6bb",
   "metadata": {},
   "outputs": [
    {
     "data": {
      "text/plain": [
       "1"
      ]
     },
     "execution_count": 17,
     "metadata": {},
     "output_type": "execute_result"
    }
   ],
   "source": [
    "d[\"key\"]"
   ]
  },
  {
   "cell_type": "code",
   "execution_count": 19,
   "id": "cc8b020d-6fbd-4b67-86c6-360ea21e12f9",
   "metadata": {},
   "outputs": [
    {
     "ename": "KeyError",
     "evalue": "1",
     "output_type": "error",
     "traceback": [
      "\u001b[0;31m---------------------------------------------------------------------------\u001b[0m",
      "\u001b[0;31mKeyError\u001b[0m                                  Traceback (most recent call last)",
      "Cell \u001b[0;32mIn[19], line 1\u001b[0m\n\u001b[0;32m----> 1\u001b[0m \u001b[43md\u001b[49m\u001b[43m[\u001b[49m\u001b[38;5;241;43m1\u001b[39;49m\u001b[43m]\u001b[49m \u001b[38;5;66;03m#you can only access value using key, vice-versa not possible\u001b[39;00m\n",
      "\u001b[0;31mKeyError\u001b[0m: 1"
     ]
    }
   ],
   "source": [
    "d[1] #you can only access value using key, vice-versa not possible"
   ]
  },
  {
   "cell_type": "code",
   "execution_count": 20,
   "id": "d6729691-d478-41d6-9935-31ded68cc412",
   "metadata": {},
   "outputs": [],
   "source": [
    "#rules of defining keys\n",
    "d = {1:\"abc\"} #integers as key"
   ]
  },
  {
   "cell_type": "code",
   "execution_count": 21,
   "id": "1229711d-c355-469a-8125-8f951aaab21b",
   "metadata": {},
   "outputs": [
    {
     "data": {
      "text/plain": [
       "{1: 'abc'}"
      ]
     },
     "execution_count": 21,
     "metadata": {},
     "output_type": "execute_result"
    }
   ],
   "source": [
    "d"
   ]
  },
  {
   "cell_type": "code",
   "execution_count": 22,
   "id": "a6e3cda3-30f1-4702-8af6-7b7e826654a8",
   "metadata": {},
   "outputs": [],
   "source": [
    "d = {1.2: \"abc\"} #float as key"
   ]
  },
  {
   "cell_type": "code",
   "execution_count": 23,
   "id": "753c6c71-0aaa-48c5-9304-0cc7a41132e6",
   "metadata": {},
   "outputs": [
    {
     "data": {
      "text/plain": [
       "{1.2: 'abc'}"
      ]
     },
     "execution_count": 23,
     "metadata": {},
     "output_type": "execute_result"
    }
   ],
   "source": [
    "d"
   ]
  },
  {
   "cell_type": "code",
   "execution_count": 24,
   "id": "73ddba48-aea1-4d48-8d01-fa20b1148cf6",
   "metadata": {},
   "outputs": [],
   "source": [
    "d = {True: \"any value\"} #boolean value also can be key of dictionary"
   ]
  },
  {
   "cell_type": "code",
   "execution_count": 25,
   "id": "4eab6ba2-1f06-4749-9382-1a91585a9fb4",
   "metadata": {},
   "outputs": [
    {
     "data": {
      "text/plain": [
       "{True: 'any value'}"
      ]
     },
     "execution_count": 25,
     "metadata": {},
     "output_type": "execute_result"
    }
   ],
   "source": [
    "d"
   ]
  },
  {
   "cell_type": "code",
   "execution_count": 26,
   "id": "69af38cc-d161-45bd-9de3-6e967bbddc02",
   "metadata": {},
   "outputs": [
    {
     "ename": "SyntaxError",
     "evalue": "incomplete input (3752367810.py, line 1)",
     "output_type": "error",
     "traceback": [
      "\u001b[0;36m  Cell \u001b[0;32mIn[26], line 1\u001b[0;36m\u001b[0m\n\u001b[0;31m    d = {#: 123}\u001b[0m\n\u001b[0m                ^\u001b[0m\n\u001b[0;31mSyntaxError\u001b[0m\u001b[0;31m:\u001b[0m incomplete input\n"
     ]
    }
   ],
   "source": [
    "d = {#: 123} #you can not hav e# as a key"
   ]
  },
  {
   "cell_type": "code",
   "execution_count": 27,
   "id": "4d6ec376-05a5-4ad2-9cf3-7b48c85917e5",
   "metadata": {},
   "outputs": [
    {
     "ename": "SyntaxError",
     "evalue": "invalid syntax (1267037288.py, line 1)",
     "output_type": "error",
     "traceback": [
      "\u001b[0;36m  Cell \u001b[0;32mIn[27], line 1\u001b[0;36m\u001b[0m\n\u001b[0;31m    d = {@: \"ram\"}\u001b[0m\n\u001b[0m         ^\u001b[0m\n\u001b[0;31mSyntaxError\u001b[0m\u001b[0;31m:\u001b[0m invalid syntax\n"
     ]
    }
   ],
   "source": [
    "d = {@: \"ram\"}"
   ]
  },
  {
   "cell_type": "code",
   "execution_count": 28,
   "id": "1255ce29-f49d-4b82-b8ef-3bd4def26ce2",
   "metadata": {},
   "outputs": [
    {
     "ename": "TypeError",
     "evalue": "unhashable type: 'list'",
     "output_type": "error",
     "traceback": [
      "\u001b[0;31m---------------------------------------------------------------------------\u001b[0m",
      "\u001b[0;31mTypeError\u001b[0m                                 Traceback (most recent call last)",
      "Cell \u001b[0;32mIn[28], line 1\u001b[0m\n\u001b[0;32m----> 1\u001b[0m d \u001b[38;5;241m=\u001b[39m {[\u001b[38;5;241m1\u001b[39m, \u001b[38;5;241m2\u001b[39m,\u001b[38;5;241m3\u001b[39m]: \u001b[38;5;124m\"\u001b[39m\u001b[38;5;124mshyam\u001b[39m\u001b[38;5;124m\"\u001b[39m}\n",
      "\u001b[0;31mTypeError\u001b[0m: unhashable type: 'list'"
     ]
    }
   ],
   "source": [
    "d = {[1, 2,3]: \"shyam\"}"
   ]
  },
  {
   "cell_type": "code",
   "execution_count": 29,
   "id": "d0693874-f20e-467b-8d2b-a5fbc95ad86a",
   "metadata": {},
   "outputs": [],
   "source": [
    "d = {(1, 2, 3): \"abc\"}"
   ]
  },
  {
   "cell_type": "code",
   "execution_count": 30,
   "id": "3fec58e4-6c36-45e8-bf26-41ca87806ec2",
   "metadata": {},
   "outputs": [
    {
     "data": {
      "text/plain": [
       "{(1, 2, 3): 'abc'}"
      ]
     },
     "execution_count": 30,
     "metadata": {},
     "output_type": "execute_result"
    }
   ],
   "source": [
    "d"
   ]
  },
  {
   "cell_type": "code",
   "execution_count": 31,
   "id": "e66867c7-4dcf-4c03-827f-1a6f8ad7dea8",
   "metadata": {},
   "outputs": [
    {
     "data": {
      "text/plain": [
       "dict"
      ]
     },
     "execution_count": 31,
     "metadata": {},
     "output_type": "execute_result"
    }
   ],
   "source": [
    "type(d)"
   ]
  },
  {
   "cell_type": "code",
   "execution_count": 32,
   "id": "5af170b4-2328-4942-b0c0-382efd9a5389",
   "metadata": {},
   "outputs": [
    {
     "ename": "TypeError",
     "evalue": "unhashable type: 'set'",
     "output_type": "error",
     "traceback": [
      "\u001b[0;31m---------------------------------------------------------------------------\u001b[0m",
      "\u001b[0;31mTypeError\u001b[0m                                 Traceback (most recent call last)",
      "Cell \u001b[0;32mIn[32], line 1\u001b[0m\n\u001b[0;32m----> 1\u001b[0m d \u001b[38;5;241m=\u001b[39m {{\u001b[38;5;241m1\u001b[39m, \u001b[38;5;241m2\u001b[39m, \u001b[38;5;241m3\u001b[39m}:\u001b[38;5;124m\"\u001b[39m\u001b[38;5;124mAjay\u001b[39m\u001b[38;5;124m\"\u001b[39m}\n",
      "\u001b[0;31mTypeError\u001b[0m: unhashable type: 'set'"
     ]
    }
   ],
   "source": [
    "d = {{1, 2, 3}:\"Ajay\"}"
   ]
  },
  {
   "cell_type": "code",
   "execution_count": 33,
   "id": "5dd19080-aa7b-4ddf-9cc2-a31f41396e41",
   "metadata": {},
   "outputs": [
    {
     "ename": "TypeError",
     "evalue": "unhashable type: 'dict'",
     "output_type": "error",
     "traceback": [
      "\u001b[0;31m---------------------------------------------------------------------------\u001b[0m",
      "\u001b[0;31mTypeError\u001b[0m                                 Traceback (most recent call last)",
      "Cell \u001b[0;32mIn[33], line 1\u001b[0m\n\u001b[0;32m----> 1\u001b[0m d \u001b[38;5;241m=\u001b[39m {{\u001b[38;5;124m\"\u001b[39m\u001b[38;5;124mkey\u001b[39m\u001b[38;5;124m\"\u001b[39m:\u001b[38;5;241m123\u001b[39m} : \u001b[38;5;124m\"\u001b[39m\u001b[38;5;124majay\u001b[39m\u001b[38;5;124m\"\u001b[39m}\n",
      "\u001b[0;31mTypeError\u001b[0m: unhashable type: 'dict'"
     ]
    }
   ],
   "source": [
    "d = {{\"key\":123} : \"ajay\"}"
   ]
  },
  {
   "cell_type": "code",
   "execution_count": 34,
   "id": "3806bda7-f909-4914-9ac3-42d2e637ff6d",
   "metadata": {},
   "outputs": [],
   "source": [
    "#only string and numvbers can be used as a key of the dictionary"
   ]
  },
  {
   "cell_type": "code",
   "execution_count": 35,
   "id": "add3e9a0-3b96-4335-bd69-1a828878fa22",
   "metadata": {},
   "outputs": [
    {
     "data": {
      "text/plain": [
       "{(1, 2, 3): 'abc'}"
      ]
     },
     "execution_count": 35,
     "metadata": {},
     "output_type": "execute_result"
    }
   ],
   "source": [
    "d"
   ]
  },
  {
   "cell_type": "code",
   "execution_count": 36,
   "id": "712bee09-0bb4-4fb2-b007-f5b945c7b12b",
   "metadata": {},
   "outputs": [],
   "source": [
    "d = {\"name\":\"Ajay\", \"email\":\"aj@gmail.com\", \"contact\": 1234, \"name\": \"Bijay\"}\n",
    "#always the last key, value will be used"
   ]
  },
  {
   "cell_type": "code",
   "execution_count": 37,
   "id": "86ebb122-d7e6-4dcf-b317-072b4551de7a",
   "metadata": {},
   "outputs": [
    {
     "data": {
      "text/plain": [
       "{'name': 'Bijay', 'email': 'aj@gmail.com', 'contact': 1234}"
      ]
     },
     "execution_count": 37,
     "metadata": {},
     "output_type": "execute_result"
    }
   ],
   "source": [
    "d"
   ]
  },
  {
   "cell_type": "code",
   "execution_count": 38,
   "id": "a3c5aaf3-cfb1-4912-b210-7f157c8a7b78",
   "metadata": {},
   "outputs": [],
   "source": [
    "d[\"name\"] = \"Sanjay\""
   ]
  },
  {
   "cell_type": "code",
   "execution_count": 39,
   "id": "f59db5e2-8b80-4280-b1d8-35cd1bd73114",
   "metadata": {},
   "outputs": [
    {
     "data": {
      "text/plain": [
       "{'name': 'Sanjay', 'email': 'aj@gmail.com', 'contact': 1234}"
      ]
     },
     "execution_count": 39,
     "metadata": {},
     "output_type": "execute_result"
    }
   ],
   "source": [
    "d"
   ]
  },
  {
   "cell_type": "code",
   "execution_count": 42,
   "id": "32c97cd1-f795-4d2a-b50d-1e303d3403c7",
   "metadata": {},
   "outputs": [],
   "source": [
    "d = {'name': ['Sanjay', \"Ajay\", 1, 2], 'email': 'aj@gmail.com', 'contact': (1234, 678)}"
   ]
  },
  {
   "cell_type": "code",
   "execution_count": 43,
   "id": "682f66fb-965b-4084-85a3-e9ae71a11010",
   "metadata": {},
   "outputs": [
    {
     "data": {
      "text/plain": [
       "{'name': ['Sanjay', 'Ajay', 1, 2],\n",
       " 'email': 'aj@gmail.com',\n",
       " 'contact': (1234, 678)}"
      ]
     },
     "execution_count": 43,
     "metadata": {},
     "output_type": "execute_result"
    }
   ],
   "source": [
    "d"
   ]
  },
  {
   "cell_type": "code",
   "execution_count": 45,
   "id": "159d4ba9-eef5-4ea8-b563-ee5636d96edd",
   "metadata": {},
   "outputs": [
    {
     "data": {
      "text/plain": [
       "'Ajay'"
      ]
     },
     "execution_count": 45,
     "metadata": {},
     "output_type": "execute_result"
    }
   ],
   "source": [
    "d['name'][1]"
   ]
  },
  {
   "cell_type": "code",
   "execution_count": 46,
   "id": "f6f45ef6-c802-44fc-9bc6-43e4fdd54be0",
   "metadata": {},
   "outputs": [
    {
     "data": {
      "text/plain": [
       "{'name': ['Sanjay', 'Ajay', 1, 2],\n",
       " 'email': 'aj@gmail.com',\n",
       " 'contact': (1234, 678)}"
      ]
     },
     "execution_count": 46,
     "metadata": {},
     "output_type": "execute_result"
    }
   ],
   "source": [
    "d"
   ]
  },
  {
   "cell_type": "code",
   "execution_count": 47,
   "id": "8e66769d-07a0-4e16-8a0d-cd6ec5075e8b",
   "metadata": {},
   "outputs": [],
   "source": [
    "d[\"address\"] = \"Bangalore\" #to create a new key value pair"
   ]
  },
  {
   "cell_type": "code",
   "execution_count": 48,
   "id": "a0a4b489-196c-4439-b058-79f918f9e570",
   "metadata": {},
   "outputs": [
    {
     "data": {
      "text/plain": [
       "{'name': ['Sanjay', 'Ajay', 1, 2],\n",
       " 'email': 'aj@gmail.com',\n",
       " 'contact': (1234, 678),\n",
       " 'address': 'Bangalore'}"
      ]
     },
     "execution_count": 48,
     "metadata": {},
     "output_type": "execute_result"
    }
   ],
   "source": [
    "d"
   ]
  },
  {
   "cell_type": "code",
   "execution_count": 49,
   "id": "6167d3f0-3d5e-4d6b-a4c8-31e86345e8e9",
   "metadata": {},
   "outputs": [],
   "source": [
    "del d[\"address\"] #to delete a key value pair"
   ]
  },
  {
   "cell_type": "code",
   "execution_count": 50,
   "id": "e330ee09-9213-4bdf-8cd4-67004d79df5d",
   "metadata": {},
   "outputs": [
    {
     "data": {
      "text/plain": [
       "{'name': ['Sanjay', 'Ajay', 1, 2],\n",
       " 'email': 'aj@gmail.com',\n",
       " 'contact': (1234, 678)}"
      ]
     },
     "execution_count": 50,
     "metadata": {},
     "output_type": "execute_result"
    }
   ],
   "source": [
    "d"
   ]
  },
  {
   "cell_type": "code",
   "execution_count": 51,
   "id": "53845cf5-48e7-47b0-aef4-e92c9bfe86d2",
   "metadata": {},
   "outputs": [],
   "source": [
    "del d #delete the whole dictionary"
   ]
  },
  {
   "cell_type": "code",
   "execution_count": 52,
   "id": "d8482a42-9beb-4428-9af6-64f7a1252ac9",
   "metadata": {},
   "outputs": [
    {
     "ename": "NameError",
     "evalue": "name 'd' is not defined",
     "output_type": "error",
     "traceback": [
      "\u001b[0;31m---------------------------------------------------------------------------\u001b[0m",
      "\u001b[0;31mNameError\u001b[0m                                 Traceback (most recent call last)",
      "Cell \u001b[0;32mIn[52], line 1\u001b[0m\n\u001b[0;32m----> 1\u001b[0m \u001b[43md\u001b[49m\n",
      "\u001b[0;31mNameError\u001b[0m: name 'd' is not defined"
     ]
    }
   ],
   "source": [
    "d"
   ]
  },
  {
   "cell_type": "code",
   "execution_count": 53,
   "id": "02ad2a70-aeb1-4d8b-99c5-a15f7c4c7316",
   "metadata": {},
   "outputs": [
    {
     "data": {
      "text/plain": [
       "{'name': ['Sanjay', 'Ajay', 1, 2],\n",
       " 'email': 'aj@gmail.com',\n",
       " 'contact': (1234, 678)}"
      ]
     },
     "execution_count": 53,
     "metadata": {},
     "output_type": "execute_result"
    }
   ],
   "source": [
    "d = {'name': ['Sanjay', \"Ajay\", 1, 2], 'email': 'aj@gmail.com', 'contact': (1234, 678)}\n",
    "d"
   ]
  },
  {
   "cell_type": "code",
   "execution_count": 54,
   "id": "1c7cca0e-bcbb-4007-9137-4326d1c64804",
   "metadata": {},
   "outputs": [],
   "source": [
    "d.clear() #empty dictionary"
   ]
  },
  {
   "cell_type": "code",
   "execution_count": 55,
   "id": "69f21f10-e7aa-434a-afb8-5d2d694ad088",
   "metadata": {},
   "outputs": [
    {
     "data": {
      "text/plain": [
       "{}"
      ]
     },
     "execution_count": 55,
     "metadata": {},
     "output_type": "execute_result"
    }
   ],
   "source": [
    "d"
   ]
  },
  {
   "cell_type": "code",
   "execution_count": 56,
   "id": "a32cddb7-a3d9-44d7-a268-00fd945dcd40",
   "metadata": {},
   "outputs": [
    {
     "data": {
      "text/plain": [
       "3"
      ]
     },
     "execution_count": 56,
     "metadata": {},
     "output_type": "execute_result"
    }
   ],
   "source": [
    "d = {'name': ['Sanjay', \"Ajay\", 1, 2], 'email': 'aj@gmail.com', 'contact': (1234, 678)}\n",
    "len(d)"
   ]
  },
  {
   "cell_type": "code",
   "execution_count": 57,
   "id": "a6ca62b4-67d8-456c-a8f6-9ab7f9002ebb",
   "metadata": {},
   "outputs": [
    {
     "data": {
      "text/plain": [
       "dict_keys(['name', 'email', 'contact'])"
      ]
     },
     "execution_count": 57,
     "metadata": {},
     "output_type": "execute_result"
    }
   ],
   "source": [
    "d.keys()"
   ]
  },
  {
   "cell_type": "code",
   "execution_count": 58,
   "id": "343d1199-c1d4-468f-8537-4f795ef47570",
   "metadata": {},
   "outputs": [
    {
     "data": {
      "text/plain": [
       "dict_values([['Sanjay', 'Ajay', 1, 2], 'aj@gmail.com', (1234, 678)])"
      ]
     },
     "execution_count": 58,
     "metadata": {},
     "output_type": "execute_result"
    }
   ],
   "source": [
    "d.values()"
   ]
  },
  {
   "cell_type": "code",
   "execution_count": 59,
   "id": "3c09ca71-f49b-44d7-91ec-e0e190f556d1",
   "metadata": {},
   "outputs": [],
   "source": [
    "d1 = d.copy()"
   ]
  },
  {
   "cell_type": "code",
   "execution_count": 60,
   "id": "a5271616-b82a-46df-b141-5cd43432428b",
   "metadata": {},
   "outputs": [
    {
     "data": {
      "text/plain": [
       "{'name': ['Sanjay', 'Ajay', 1, 2],\n",
       " 'email': 'aj@gmail.com',\n",
       " 'contact': (1234, 678)}"
      ]
     },
     "execution_count": 60,
     "metadata": {},
     "output_type": "execute_result"
    }
   ],
   "source": [
    "d1"
   ]
  },
  {
   "cell_type": "code",
   "execution_count": 61,
   "id": "95e7a1fe-b256-4397-a134-869d2a0a4e8a",
   "metadata": {},
   "outputs": [],
   "source": [
    "del d1"
   ]
  },
  {
   "cell_type": "code",
   "execution_count": 62,
   "id": "7c8bb5e3-0b44-404e-967e-7ef08e96bd6f",
   "metadata": {},
   "outputs": [
    {
     "data": {
      "text/plain": [
       "{'name': ['Sanjay', 'Ajay', 1, 2],\n",
       " 'email': 'aj@gmail.com',\n",
       " 'contact': (1234, 678)}"
      ]
     },
     "execution_count": 62,
     "metadata": {},
     "output_type": "execute_result"
    }
   ],
   "source": [
    "d"
   ]
  },
  {
   "cell_type": "code",
   "execution_count": 64,
   "id": "0da5a5a3-b008-4315-9cf0-991cc2a38c9b",
   "metadata": {},
   "outputs": [
    {
     "data": {
      "text/plain": [
       "{'name': ['Sanjay', 'Ajay', 1, 2],\n",
       " 'email': 'aj@gmail.com',\n",
       " 'contact': (1234, 678)}"
      ]
     },
     "execution_count": 64,
     "metadata": {},
     "output_type": "execute_result"
    }
   ],
   "source": [
    "d"
   ]
  },
  {
   "cell_type": "code",
   "execution_count": 66,
   "id": "36df814c-a699-4e82-8bb8-fe0a36045aa7",
   "metadata": {},
   "outputs": [
    {
     "data": {
      "text/plain": [
       "(1234, 678)"
      ]
     },
     "execution_count": 66,
     "metadata": {},
     "output_type": "execute_result"
    }
   ],
   "source": [
    "d.pop(\"contact\")"
   ]
  },
  {
   "cell_type": "code",
   "execution_count": 67,
   "id": "206a5751-8659-4804-a26f-a0a927b27f5c",
   "metadata": {},
   "outputs": [
    {
     "data": {
      "text/plain": [
       "{'name': ['Sanjay', 'Ajay', 1, 2], 'email': 'aj@gmail.com'}"
      ]
     },
     "execution_count": 67,
     "metadata": {},
     "output_type": "execute_result"
    }
   ],
   "source": [
    "d"
   ]
  },
  {
   "cell_type": "code",
   "execution_count": 68,
   "id": "55c7ea76-d806-4bff-ac73-1cd305e619d1",
   "metadata": {},
   "outputs": [
    {
     "data": {
      "text/plain": [
       "{'name': ['Sanjay', 'Ajay', 1, 2], 'email': 'aj@gmail.com'}"
      ]
     },
     "execution_count": 68,
     "metadata": {},
     "output_type": "execute_result"
    }
   ],
   "source": [
    "d"
   ]
  },
  {
   "cell_type": "code",
   "execution_count": 69,
   "id": "9b1e3acb-946e-4660-b09b-dfbce3daf26b",
   "metadata": {},
   "outputs": [
    {
     "data": {
      "text/plain": [
       "{'course': 'ds'}"
      ]
     },
     "execution_count": 69,
     "metadata": {},
     "output_type": "execute_result"
    }
   ],
   "source": [
    "d1 = {\"course\": \"ds\"}\n",
    "d1"
   ]
  },
  {
   "cell_type": "code",
   "execution_count": 70,
   "id": "36708331-bc03-4784-91f3-6750b2757e34",
   "metadata": {},
   "outputs": [],
   "source": [
    "d.update(d1)"
   ]
  },
  {
   "cell_type": "code",
   "execution_count": 71,
   "id": "37791c80-a803-4bef-bed5-cdd548b0e9bd",
   "metadata": {},
   "outputs": [
    {
     "data": {
      "text/plain": [
       "{'name': ['Sanjay', 'Ajay', 1, 2], 'email': 'aj@gmail.com', 'course': 'ds'}"
      ]
     },
     "execution_count": 71,
     "metadata": {},
     "output_type": "execute_result"
    }
   ],
   "source": [
    "d"
   ]
  },
  {
   "cell_type": "code",
   "execution_count": 72,
   "id": "0f4ab9da-251a-4dfa-bcd0-2f7f350222ef",
   "metadata": {},
   "outputs": [
    {
     "data": {
      "text/plain": [
       "['Sanjay', 'Ajay', 1, 2]"
      ]
     },
     "execution_count": 72,
     "metadata": {},
     "output_type": "execute_result"
    }
   ],
   "source": [
    "d[\"name\"]"
   ]
  },
  {
   "cell_type": "code",
   "execution_count": 73,
   "id": "91427e82-6818-4367-bfaa-9c573fa4efbd",
   "metadata": {},
   "outputs": [
    {
     "data": {
      "text/plain": [
       "['Sanjay', 'Ajay', 1, 2]"
      ]
     },
     "execution_count": 73,
     "metadata": {},
     "output_type": "execute_result"
    }
   ],
   "source": [
    "d.get(\"name\")"
   ]
  },
  {
   "cell_type": "code",
   "execution_count": 74,
   "id": "eab564f1-d5a4-4426-b646-48e4c26ed1ee",
   "metadata": {},
   "outputs": [
    {
     "data": {
      "text/plain": [
       "{'name': ['Sanjay', 'Ajay', 1, 2], 'email': 'aj@gmail.com', 'course': 'ds'}"
      ]
     },
     "execution_count": 74,
     "metadata": {},
     "output_type": "execute_result"
    }
   ],
   "source": [
    "d"
   ]
  },
  {
   "cell_type": "code",
   "execution_count": 76,
   "id": "df8aa07d-93ce-4ab8-b961-0de11a00d657",
   "metadata": {},
   "outputs": [
    {
     "data": {
      "text/plain": [
       "'ds'"
      ]
     },
     "execution_count": 76,
     "metadata": {},
     "output_type": "execute_result"
    }
   ],
   "source": [
    "d[\"course\"]"
   ]
  },
  {
   "cell_type": "code",
   "execution_count": 77,
   "id": "fa9df4a5-778d-46f4-9644-1b76c000606d",
   "metadata": {},
   "outputs": [
    {
     "data": {
      "text/plain": [
       "3"
      ]
     },
     "execution_count": 77,
     "metadata": {},
     "output_type": "execute_result"
    }
   ],
   "source": [
    "len(d)"
   ]
  },
  {
   "cell_type": "code",
   "execution_count": 78,
   "id": "1d7a4e86-066a-4fc4-aaf9-0bfb437458b8",
   "metadata": {},
   "outputs": [
    {
     "data": {
      "text/plain": [
       "{1: ('a', 'b', 'c'), 2: ('a', 'b', 'c'), 3: ('a', 'b', 'c')}"
      ]
     },
     "execution_count": 78,
     "metadata": {},
     "output_type": "execute_result"
    }
   ],
   "source": [
    "#from keys\n",
    "d.fromkeys((1, 2, 3), (\"a\", \"b\", \"c\"))"
   ]
  },
  {
   "cell_type": "code",
   "execution_count": 79,
   "id": "d34c815d-55f2-4c03-bd3b-2f95129b6de3",
   "metadata": {},
   "outputs": [
    {
     "name": "stdout",
     "output_type": "stream",
     "text": [
      "('Arun', 80)\n",
      "('Ajay', 95)\n",
      "('Bijay', 100)\n"
     ]
    }
   ],
   "source": [
    "#dictionary comprehension\n",
    "\n",
    "#zip function\n",
    "students = [\"Arun\", \"Ajay\", \"Bijay\"]\n",
    "marks = [80, 95, 100]\n",
    "\n",
    "for i in zip(students, marks):\n",
    "    print(i)"
   ]
  },
  {
   "cell_type": "code",
   "execution_count": 80,
   "id": "5c841e99-04ae-445e-9d6a-ed4c953d6b1d",
   "metadata": {},
   "outputs": [],
   "source": [
    "#store the above info in key value pair>> dict"
   ]
  },
  {
   "cell_type": "code",
   "execution_count": 81,
   "id": "fbde6473-5779-4b29-9837-eb48ff51b1bf",
   "metadata": {},
   "outputs": [],
   "source": [
    "students = [\"Arun\", \"Ajay\", \"Bijay\"]\n",
    "marks = [80, 95, 100]\n",
    "students_marks = {}\n",
    "for student, mark in zip(students, marks):\n",
    "    students_marks[student] = mark"
   ]
  },
  {
   "cell_type": "code",
   "execution_count": 82,
   "id": "ea8ad08d-625e-4a7f-a463-c60565d200be",
   "metadata": {},
   "outputs": [
    {
     "data": {
      "text/plain": [
       "{'Arun': 80, 'Ajay': 95, 'Bijay': 100}"
      ]
     },
     "execution_count": 82,
     "metadata": {},
     "output_type": "execute_result"
    }
   ],
   "source": [
    "students_marks"
   ]
  },
  {
   "cell_type": "code",
   "execution_count": 84,
   "id": "a3408fad-16da-444f-82fc-4a68b44d9fa3",
   "metadata": {},
   "outputs": [
    {
     "data": {
      "text/plain": [
       "{'Arun': 80, 'Ajay': 95, 'Bijay': 100}"
      ]
     },
     "execution_count": 84,
     "metadata": {},
     "output_type": "execute_result"
    }
   ],
   "source": [
    "#using dictionary comprehension method\n",
    "students = [\"Arun\", \"Ajay\", \"Bijay\"]\n",
    "marks = [80, 95, 100]\n",
    "{student:marks for student, marks in zip(students, marks)}"
   ]
  },
  {
   "cell_type": "code",
   "execution_count": 85,
   "id": "25c59dc2-679a-4014-8e86-0773b2d83e0e",
   "metadata": {},
   "outputs": [],
   "source": [
    "#use case\n",
    "user_id = [1, 2, 3]\n",
    "user_name = [\"a21\", \"a22\", \"a23\"]"
   ]
  },
  {
   "cell_type": "code",
   "execution_count": 86,
   "id": "acad2830-3bb0-4c00-837d-2083528df26c",
   "metadata": {},
   "outputs": [
    {
     "data": {
      "text/plain": [
       "[1, 2, 3]"
      ]
     },
     "execution_count": 86,
     "metadata": {},
     "output_type": "execute_result"
    }
   ],
   "source": [
    "user_id"
   ]
  },
  {
   "cell_type": "code",
   "execution_count": 88,
   "id": "521bcc28-a0d1-4c84-bc02-24c1d49fc26e",
   "metadata": {},
   "outputs": [
    {
     "data": {
      "text/plain": [
       "['a21', 'a22', 'a23']"
      ]
     },
     "execution_count": 88,
     "metadata": {},
     "output_type": "execute_result"
    }
   ],
   "source": [
    "user_name"
   ]
  },
  {
   "cell_type": "code",
   "execution_count": 89,
   "id": "dce24d65-2e25-4c26-8bc8-1c8b9045f31f",
   "metadata": {},
   "outputs": [
    {
     "data": {
      "text/plain": [
       "{1: 'a21', 2: 'a22', 3: 'a23'}"
      ]
     },
     "execution_count": 89,
     "metadata": {},
     "output_type": "execute_result"
    }
   ],
   "source": [
    "{u_id:u_name for u_id, u_name in zip(user_id, user_name)}"
   ]
  },
  {
   "cell_type": "code",
   "execution_count": 90,
   "id": "918a9e17-ae49-4114-b62b-6706dd26aff7",
   "metadata": {},
   "outputs": [],
   "source": [
    "employee_records = {\n",
    "    'E001': {'name': 'John Doe', 'department': 'Engineering', 'salary': 75000},\n",
    "    'E002': {'name': 'Jane Smith', 'department': 'Marketing', 'salary': 65000},\n",
    "    'E003': {'name': 'David Lee', 'department': 'Finance', 'salary': 80000}\n",
    "}"
   ]
  },
  {
   "cell_type": "code",
   "execution_count": 92,
   "id": "fe9a09bc-e921-4687-8e7c-25b4e15b015c",
   "metadata": {},
   "outputs": [
    {
     "data": {
      "text/plain": [
       "dict"
      ]
     },
     "execution_count": 92,
     "metadata": {},
     "output_type": "execute_result"
    }
   ],
   "source": [
    "type(employee_records)"
   ]
  },
  {
   "cell_type": "code",
   "execution_count": 93,
   "id": "84dc767d-d418-4273-a6f9-fcbf040d1d12",
   "metadata": {},
   "outputs": [
    {
     "data": {
      "text/plain": [
       "{'name': 'John Doe', 'department': 'Engineering', 'salary': 75000}"
      ]
     },
     "execution_count": 93,
     "metadata": {},
     "output_type": "execute_result"
    }
   ],
   "source": [
    "employee_records.get(\"E001\")"
   ]
  },
  {
   "cell_type": "code",
   "execution_count": 94,
   "id": "406d28e4-98f9-43f0-9afb-6443dd260551",
   "metadata": {},
   "outputs": [
    {
     "data": {
      "text/plain": [
       "{'name': 'John Doe', 'department': 'Engineering', 'salary': 75000}"
      ]
     },
     "execution_count": 94,
     "metadata": {},
     "output_type": "execute_result"
    }
   ],
   "source": [
    "employee_records[\"E001\"]"
   ]
  },
  {
   "cell_type": "code",
   "execution_count": 98,
   "id": "b0816e6d-ba53-4b0e-a531-183cdad08262",
   "metadata": {},
   "outputs": [],
   "source": [
    "restaurant_menu = {\n",
    "    'Dish1': {'name': 'Pasta Carbonara', 'price': 15.99, 'description': 'Creamy pasta with bacon and parmesan'},\n",
    "    'Dish2': {'name': 'Chicken Caesar Salad', 'price': 12.50, 'description': 'Grilled chicken with romaine lettuce and Caesar dressing'},\n",
    "    'Dish3': {'name': 'Margherita Pizza', 'price': 14.00, 'description': 'Pizza topped with tomato, mozzarella, and basil'}\n",
    "}"
   ]
  },
  {
   "cell_type": "code",
   "execution_count": 99,
   "id": "e152b415-8a17-4235-aa55-58f39a32d4a3",
   "metadata": {},
   "outputs": [
    {
     "data": {
      "text/plain": [
       "{'name': 'Pasta Carbonara',\n",
       " 'price': 15.99,\n",
       " 'description': 'Creamy pasta with bacon and parmesan'}"
      ]
     },
     "execution_count": 99,
     "metadata": {},
     "output_type": "execute_result"
    }
   ],
   "source": [
    "restaurant_menu[\"Dish1\"]"
   ]
  },
  {
   "cell_type": "code",
   "execution_count": 100,
   "id": "6f1aff8f-be2b-44e0-94d7-e91db8f56c26",
   "metadata": {},
   "outputs": [
    {
     "data": {
      "text/plain": [
       "dict_keys(['Dish1', 'Dish2', 'Dish3'])"
      ]
     },
     "execution_count": 100,
     "metadata": {},
     "output_type": "execute_result"
    }
   ],
   "source": [
    "#dictionary view object\n",
    "restaurant_menu.keys()"
   ]
  },
  {
   "cell_type": "code",
   "execution_count": 101,
   "id": "6e8cf35c-539b-49f6-a76b-3c1608ef80ba",
   "metadata": {},
   "outputs": [
    {
     "data": {
      "text/plain": [
       "dict_values([{'name': 'Pasta Carbonara', 'price': 15.99, 'description': 'Creamy pasta with bacon and parmesan'}, {'name': 'Chicken Caesar Salad', 'price': 12.5, 'description': 'Grilled chicken with romaine lettuce and Caesar dressing'}, {'name': 'Margherita Pizza', 'price': 14.0, 'description': 'Pizza topped with tomato, mozzarella, and basil'}])"
      ]
     },
     "execution_count": 101,
     "metadata": {},
     "output_type": "execute_result"
    }
   ],
   "source": [
    "restaurant_menu.values()"
   ]
  },
  {
   "cell_type": "code",
   "execution_count": 102,
   "id": "d6c89a37-2c3d-4074-a3f3-5070d88f2cf5",
   "metadata": {},
   "outputs": [
    {
     "data": {
      "text/plain": [
       "dict_items([('Dish1', {'name': 'Pasta Carbonara', 'price': 15.99, 'description': 'Creamy pasta with bacon and parmesan'}), ('Dish2', {'name': 'Chicken Caesar Salad', 'price': 12.5, 'description': 'Grilled chicken with romaine lettuce and Caesar dressing'}), ('Dish3', {'name': 'Margherita Pizza', 'price': 14.0, 'description': 'Pizza topped with tomato, mozzarella, and basil'})])"
      ]
     },
     "execution_count": 102,
     "metadata": {},
     "output_type": "execute_result"
    }
   ],
   "source": [
    "restaurant_menu.items()"
   ]
  },
  {
   "cell_type": "code",
   "execution_count": null,
   "id": "5d97f73c-3839-4875-ae16-88793b05f4c0",
   "metadata": {},
   "outputs": [],
   "source": [
    "for key,"
   ]
  }
 ],
 "metadata": {
  "kernelspec": {
   "display_name": "Python 3 (ipykernel)",
   "language": "python",
   "name": "python3"
  },
  "language_info": {
   "codemirror_mode": {
    "name": "ipython",
    "version": 3
   },
   "file_extension": ".py",
   "mimetype": "text/x-python",
   "name": "python",
   "nbconvert_exporter": "python",
   "pygments_lexer": "ipython3",
   "version": "3.10.8"
  }
 },
 "nbformat": 4,
 "nbformat_minor": 5
}
