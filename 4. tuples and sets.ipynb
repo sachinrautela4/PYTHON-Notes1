{
 "cells": [
  {
   "cell_type": "code",
   "execution_count": 1,
   "id": "2a1f2a0c-793a-454c-8dd0-88b0062c64f1",
   "metadata": {},
   "outputs": [],
   "source": [
    "#Tuples are ordered collection of elements, heterogenous\n",
    "#Tuples are immutable"
   ]
  },
  {
   "cell_type": "code",
   "execution_count": 2,
   "id": "baf75395-b30c-4340-881e-73e73a80091b",
   "metadata": {},
   "outputs": [],
   "source": [
    "t = ()"
   ]
  },
  {
   "cell_type": "code",
   "execution_count": 3,
   "id": "ba34435e-e137-48df-bf00-47fc4a3103c3",
   "metadata": {},
   "outputs": [
    {
     "data": {
      "text/plain": [
       "tuple"
      ]
     },
     "execution_count": 3,
     "metadata": {},
     "output_type": "execute_result"
    }
   ],
   "source": [
    "type(t)"
   ]
  },
  {
   "cell_type": "code",
   "execution_count": 4,
   "id": "076d0696-c806-4352-8d6e-54a6839715c4",
   "metadata": {},
   "outputs": [],
   "source": [
    "t = (\"pwskills\", \"Ajay\", 2, 2.3, True, 3+5j)"
   ]
  },
  {
   "cell_type": "code",
   "execution_count": 5,
   "id": "e11f09fb-e78e-4f1e-9469-bb758313eeca",
   "metadata": {},
   "outputs": [
    {
     "data": {
      "text/plain": [
       "tuple"
      ]
     },
     "execution_count": 5,
     "metadata": {},
     "output_type": "execute_result"
    }
   ],
   "source": [
    "type(t)"
   ]
  },
  {
   "cell_type": "code",
   "execution_count": 6,
   "id": "2235d1c2-ff76-4219-b114-051f96afbe26",
   "metadata": {},
   "outputs": [
    {
     "data": {
      "text/plain": [
       "'pwskills'"
      ]
     },
     "execution_count": 6,
     "metadata": {},
     "output_type": "execute_result"
    }
   ],
   "source": [
    "t[0]"
   ]
  },
  {
   "cell_type": "code",
   "execution_count": 7,
   "id": "a42899d8-1e77-49d8-b6f0-16d2d1405507",
   "metadata": {},
   "outputs": [
    {
     "data": {
      "text/plain": [
       "(3+5j)"
      ]
     },
     "execution_count": 7,
     "metadata": {},
     "output_type": "execute_result"
    }
   ],
   "source": [
    "t[-1]"
   ]
  },
  {
   "cell_type": "code",
   "execution_count": 8,
   "id": "06f2589e-e14a-463f-a061-419b25986b07",
   "metadata": {},
   "outputs": [
    {
     "data": {
      "text/plain": [
       "'pwskills'"
      ]
     },
     "execution_count": 8,
     "metadata": {},
     "output_type": "execute_result"
    }
   ],
   "source": [
    "#Tuples are immutable\n",
    "t[0]"
   ]
  },
  {
   "cell_type": "code",
   "execution_count": 9,
   "id": "192b53d1-98da-40fe-9676-a6676731246a",
   "metadata": {},
   "outputs": [
    {
     "ename": "TypeError",
     "evalue": "'tuple' object does not support item assignment",
     "output_type": "error",
     "traceback": [
      "\u001b[0;31m---------------------------------------------------------------------------\u001b[0m",
      "\u001b[0;31mTypeError\u001b[0m                                 Traceback (most recent call last)",
      "Cell \u001b[0;32mIn[9], line 1\u001b[0m\n\u001b[0;32m----> 1\u001b[0m \u001b[43mt\u001b[49m\u001b[43m[\u001b[49m\u001b[38;5;241;43m0\u001b[39;49m\u001b[43m]\u001b[49m \u001b[38;5;241m=\u001b[39m \u001b[38;5;241m100\u001b[39m\n",
      "\u001b[0;31mTypeError\u001b[0m: 'tuple' object does not support item assignment"
     ]
    }
   ],
   "source": [
    "t[0] = 100"
   ]
  },
  {
   "cell_type": "code",
   "execution_count": 10,
   "id": "75c669c8-9f42-41be-823c-aa4b0bedff95",
   "metadata": {},
   "outputs": [
    {
     "ename": "TypeError",
     "evalue": "'tuple' object does not support item assignment",
     "output_type": "error",
     "traceback": [
      "\u001b[0;31m---------------------------------------------------------------------------\u001b[0m",
      "\u001b[0;31mTypeError\u001b[0m                                 Traceback (most recent call last)",
      "Cell \u001b[0;32mIn[10], line 2\u001b[0m\n\u001b[1;32m      1\u001b[0m empid \u001b[38;5;241m=\u001b[39m (\u001b[38;5;241m1\u001b[39m, \u001b[38;5;241m2\u001b[39m, \u001b[38;5;241m3\u001b[39m, \u001b[38;5;241m4\u001b[39m, \u001b[38;5;241m5\u001b[39m)\n\u001b[0;32m----> 2\u001b[0m \u001b[43mempid\u001b[49m\u001b[43m[\u001b[49m\u001b[38;5;241;43m1\u001b[39;49m\u001b[43m]\u001b[49m \u001b[38;5;241m=\u001b[39m \u001b[38;5;241m100\u001b[39m\n",
      "\u001b[0;31mTypeError\u001b[0m: 'tuple' object does not support item assignment"
     ]
    }
   ],
   "source": [
    "#use> use tuples as a data structure where you dont want to modify the data\n",
    "empid = (1, 2, 3, 4, 5)\n",
    "empid[1] = 100"
   ]
  },
  {
   "cell_type": "code",
   "execution_count": 13,
   "id": "b833e7dc-c8fe-46f8-884e-48fee33d630f",
   "metadata": {},
   "outputs": [
    {
     "data": {
      "text/plain": [
       "3"
      ]
     },
     "execution_count": 13,
     "metadata": {},
     "output_type": "execute_result"
    }
   ],
   "source": [
    "tuple1 = (\"pwskills\", 1, 1, 1, 2, 2, \"pwskills\", 2.2)\n",
    "tuple1.count(1)"
   ]
  },
  {
   "cell_type": "code",
   "execution_count": 14,
   "id": "8cba0869-478f-4787-82f3-3beffe1894a4",
   "metadata": {},
   "outputs": [
    {
     "data": {
      "text/plain": [
       "2"
      ]
     },
     "execution_count": 14,
     "metadata": {},
     "output_type": "execute_result"
    }
   ],
   "source": [
    "tuple1.count(\"pwskills\")"
   ]
  },
  {
   "cell_type": "code",
   "execution_count": 15,
   "id": "31804375-c672-44c4-b673-f3e52dc99eca",
   "metadata": {},
   "outputs": [
    {
     "data": {
      "text/plain": [
       "0"
      ]
     },
     "execution_count": 15,
     "metadata": {},
     "output_type": "execute_result"
    }
   ],
   "source": [
    "tuple1.index(\"pwskills\")"
   ]
  },
  {
   "cell_type": "code",
   "execution_count": 16,
   "id": "65233aed-0a2c-4e3f-b40c-c9ec2ee7ae5d",
   "metadata": {},
   "outputs": [
    {
     "name": "stdout",
     "output_type": "stream",
     "text": [
      "('pwskills', 1, 1, 1, 2, 2, 'pwskills', 2.2, 'pwskills', 1, 1, 1, 2, 2, 'pwskills', 2.2)\n"
     ]
    }
   ],
   "source": [
    "print(tuple1*2)"
   ]
  },
  {
   "cell_type": "code",
   "execution_count": 17,
   "id": "14163e5d-f763-49d2-8299-4a1f746877e8",
   "metadata": {},
   "outputs": [
    {
     "data": {
      "text/plain": [
       "('pwskills', 1, 1, 1, 2, 2, 'pwskills', 2.2)"
      ]
     },
     "execution_count": 17,
     "metadata": {},
     "output_type": "execute_result"
    }
   ],
   "source": [
    "tuple1"
   ]
  },
  {
   "cell_type": "code",
   "execution_count": 18,
   "id": "b20cc15e-6fc5-4d26-a638-fe164a75f54d",
   "metadata": {},
   "outputs": [
    {
     "data": {
      "text/plain": [
       "('pwskills', 1, 1, 1)"
      ]
     },
     "execution_count": 18,
     "metadata": {},
     "output_type": "execute_result"
    }
   ],
   "source": [
    "tuple1[0:4]"
   ]
  },
  {
   "cell_type": "code",
   "execution_count": 19,
   "id": "46c99e55-7a77-4dd8-af69-cd0993808802",
   "metadata": {},
   "outputs": [
    {
     "data": {
      "text/plain": [
       "(2.2, 'pwskills', 2, 2, 1, 1, 1, 'pwskills')"
      ]
     },
     "execution_count": 19,
     "metadata": {},
     "output_type": "execute_result"
    }
   ],
   "source": [
    "tuple1[::-1]"
   ]
  },
  {
   "cell_type": "code",
   "execution_count": 21,
   "id": "c1d404d0-711f-4dd2-939c-5aff55cd2d08",
   "metadata": {},
   "outputs": [
    {
     "name": "stdout",
     "output_type": "stream",
     "text": [
      "pwskills <class 'str'>\n",
      "1 <class 'int'>\n",
      "1 <class 'int'>\n",
      "1 <class 'int'>\n",
      "2 <class 'int'>\n",
      "2 <class 'int'>\n",
      "pwskills <class 'str'>\n",
      "2.2 <class 'float'>\n"
     ]
    }
   ],
   "source": [
    "for i in tuple1:\n",
    "    print(i, type(i))"
   ]
  },
  {
   "cell_type": "code",
   "execution_count": 22,
   "id": "fe5dd35c-6bb4-48ca-bb29-438cfacb6585",
   "metadata": {},
   "outputs": [
    {
     "data": {
      "text/plain": [
       "200"
      ]
     },
     "execution_count": 22,
     "metadata": {},
     "output_type": "execute_result"
    }
   ],
   "source": [
    "t1 = (1, 2, 100, 0, 200)\n",
    "max(t1)"
   ]
  },
  {
   "cell_type": "code",
   "execution_count": 23,
   "id": "4d2a4015-5c2f-465f-a9e9-b5659ecd6127",
   "metadata": {},
   "outputs": [
    {
     "data": {
      "text/plain": [
       "0"
      ]
     },
     "execution_count": 23,
     "metadata": {},
     "output_type": "execute_result"
    }
   ],
   "source": [
    "min(t1)"
   ]
  },
  {
   "cell_type": "code",
   "execution_count": 24,
   "id": "f906052c-1ee0-41df-8cff-cac0b13aac96",
   "metadata": {},
   "outputs": [],
   "source": [
    "t2 = (101, 201)"
   ]
  },
  {
   "cell_type": "code",
   "execution_count": 25,
   "id": "9070ee3f-93e8-432a-81fa-154ea6b05e14",
   "metadata": {},
   "outputs": [
    {
     "data": {
      "text/plain": [
       "(101, 201)"
      ]
     },
     "execution_count": 25,
     "metadata": {},
     "output_type": "execute_result"
    }
   ],
   "source": [
    "t2"
   ]
  },
  {
   "cell_type": "code",
   "execution_count": 26,
   "id": "7fea7dcc-d698-4677-888f-cc06ac2867f6",
   "metadata": {},
   "outputs": [
    {
     "data": {
      "text/plain": [
       "(1, 2, 100, 0, 200)"
      ]
     },
     "execution_count": 26,
     "metadata": {},
     "output_type": "execute_result"
    }
   ],
   "source": [
    "t1"
   ]
  },
  {
   "cell_type": "code",
   "execution_count": 27,
   "id": "ba9deed6-6852-4997-a29b-965814849f3e",
   "metadata": {},
   "outputs": [],
   "source": [
    "t3 = (t1, t2) #nested tuples"
   ]
  },
  {
   "cell_type": "code",
   "execution_count": 28,
   "id": "4cde98f6-af86-4793-8626-754dc70b5a33",
   "metadata": {},
   "outputs": [
    {
     "data": {
      "text/plain": [
       "((1, 2, 100, 0, 200), (101, 201))"
      ]
     },
     "execution_count": 28,
     "metadata": {},
     "output_type": "execute_result"
    }
   ],
   "source": [
    "t3"
   ]
  },
  {
   "cell_type": "code",
   "execution_count": 29,
   "id": "46668569-a172-4673-a9a3-a7199715b9b5",
   "metadata": {},
   "outputs": [
    {
     "data": {
      "text/plain": [
       "tuple"
      ]
     },
     "execution_count": 29,
     "metadata": {},
     "output_type": "execute_result"
    }
   ],
   "source": [
    "type(t3)"
   ]
  },
  {
   "cell_type": "code",
   "execution_count": 30,
   "id": "7ed4f6d3-7df4-447b-8350-8330fefb0468",
   "metadata": {},
   "outputs": [],
   "source": [
    "del t3"
   ]
  },
  {
   "cell_type": "code",
   "execution_count": 32,
   "id": "4fdbd2f6-defa-475b-b2f1-75afb413f37f",
   "metadata": {},
   "outputs": [
    {
     "ename": "NameError",
     "evalue": "name 't3' is not defined",
     "output_type": "error",
     "traceback": [
      "\u001b[0;31m---------------------------------------------------------------------------\u001b[0m",
      "\u001b[0;31mNameError\u001b[0m                                 Traceback (most recent call last)",
      "Cell \u001b[0;32mIn[32], line 1\u001b[0m\n\u001b[0;32m----> 1\u001b[0m \u001b[43mt3\u001b[49m\n",
      "\u001b[0;31mNameError\u001b[0m: name 't3' is not defined"
     ]
    }
   ],
   "source": [
    "t3\n"
   ]
  },
  {
   "cell_type": "code",
   "execution_count": 34,
   "id": "67cf34e8-1344-4d6b-9ff0-10de50a71bdb",
   "metadata": {},
   "outputs": [
    {
     "data": {
      "text/plain": [
       "5"
      ]
     },
     "execution_count": 34,
     "metadata": {},
     "output_type": "execute_result"
    }
   ],
   "source": [
    "len(t1)"
   ]
  },
  {
   "cell_type": "code",
   "execution_count": 35,
   "id": "9b6a30f0-a372-4c31-8945-6da58c8a9cdc",
   "metadata": {},
   "outputs": [
    {
     "data": {
      "text/plain": [
       "(1, 2, 100, 0, 200)"
      ]
     },
     "execution_count": 35,
     "metadata": {},
     "output_type": "execute_result"
    }
   ],
   "source": [
    "t1"
   ]
  },
  {
   "cell_type": "code",
   "execution_count": 36,
   "id": "a93d7855-7b1f-4f54-bcc1-03ee0b8f8441",
   "metadata": {},
   "outputs": [
    {
     "data": {
      "text/plain": [
       "True"
      ]
     },
     "execution_count": 36,
     "metadata": {},
     "output_type": "execute_result"
    }
   ],
   "source": [
    "1 in t1"
   ]
  },
  {
   "cell_type": "code",
   "execution_count": 38,
   "id": "0d11c85c-dcca-4ae5-91d8-f6eed1d1e3d0",
   "metadata": {},
   "outputs": [
    {
     "data": {
      "text/plain": [
       "True"
      ]
     },
     "execution_count": 38,
     "metadata": {},
     "output_type": "execute_result"
    }
   ],
   "source": [
    "'pwskills' in tuple1"
   ]
  },
  {
   "cell_type": "code",
   "execution_count": 39,
   "id": "abf62c2b-9ea4-42ab-b327-f31219321916",
   "metadata": {},
   "outputs": [
    {
     "data": {
      "text/plain": [
       "False"
      ]
     },
     "execution_count": 39,
     "metadata": {},
     "output_type": "execute_result"
    }
   ],
   "source": [
    "'pwskills' not in tuple1"
   ]
  },
  {
   "cell_type": "code",
   "execution_count": 40,
   "id": "b2e17330-c798-4264-929d-797771562b54",
   "metadata": {},
   "outputs": [
    {
     "data": {
      "text/plain": [
       "(1, 2, 100, 0, 200)"
      ]
     },
     "execution_count": 40,
     "metadata": {},
     "output_type": "execute_result"
    }
   ],
   "source": [
    "t1"
   ]
  },
  {
   "cell_type": "code",
   "execution_count": 41,
   "id": "938e3784-c752-49cc-b91d-b0b7ab6cc63e",
   "metadata": {},
   "outputs": [
    {
     "data": {
      "text/plain": [
       "(101, 201)"
      ]
     },
     "execution_count": 41,
     "metadata": {},
     "output_type": "execute_result"
    }
   ],
   "source": [
    "t2"
   ]
  },
  {
   "cell_type": "code",
   "execution_count": 42,
   "id": "a9664a0b-ddcb-429c-a57c-d335b9829daf",
   "metadata": {},
   "outputs": [
    {
     "data": {
      "text/plain": [
       "(1, 2, 100, 0, 200, 101, 201)"
      ]
     },
     "execution_count": 42,
     "metadata": {},
     "output_type": "execute_result"
    }
   ],
   "source": [
    "#combine both the tuples\n",
    "t1+t2"
   ]
  },
  {
   "cell_type": "code",
   "execution_count": 43,
   "id": "143dba5a-3aae-4767-a948-66c9d11816ef",
   "metadata": {},
   "outputs": [],
   "source": [
    "#sets>>sets are unordered and unique collection of elements\n",
    "#doesn't alllow duplicate elements\n",
    "#unordered>> indexing will not work"
   ]
  },
  {
   "cell_type": "code",
   "execution_count": 44,
   "id": "d6b9f5d6-ae8d-4f6c-a869-e061a30b8bf7",
   "metadata": {},
   "outputs": [
    {
     "data": {
      "text/plain": [
       "dict"
      ]
     },
     "execution_count": 44,
     "metadata": {},
     "output_type": "execute_result"
    }
   ],
   "source": [
    "s = {}\n",
    "type(s)"
   ]
  },
  {
   "cell_type": "code",
   "execution_count": 45,
   "id": "f9c12e6e-3285-4fc9-a6e1-727dce957887",
   "metadata": {},
   "outputs": [
    {
     "data": {
      "text/plain": [
       "set"
      ]
     },
     "execution_count": 45,
     "metadata": {},
     "output_type": "execute_result"
    }
   ],
   "source": [
    "s = {1}\n",
    "type(s)"
   ]
  },
  {
   "cell_type": "code",
   "execution_count": 46,
   "id": "6fede6ea-907a-4400-9008-ea304a277f0e",
   "metadata": {},
   "outputs": [],
   "source": [
    "s = {1, 2, 3, 4}"
   ]
  },
  {
   "cell_type": "code",
   "execution_count": 47,
   "id": "48e4d464-ec14-45a9-8e98-1a971153859d",
   "metadata": {},
   "outputs": [
    {
     "data": {
      "text/plain": [
       "set"
      ]
     },
     "execution_count": 47,
     "metadata": {},
     "output_type": "execute_result"
    }
   ],
   "source": [
    "type(s)"
   ]
  },
  {
   "cell_type": "code",
   "execution_count": 49,
   "id": "f299d51d-a51a-4788-afd9-22e58533cdf3",
   "metadata": {},
   "outputs": [
    {
     "data": {
      "text/plain": [
       "{1, 2, 'Ajay', 'ajay'}"
      ]
     },
     "execution_count": 49,
     "metadata": {},
     "output_type": "execute_result"
    }
   ],
   "source": [
    "s = {1, 2, 1, 2, 2, \"Ajay\", \"Ajay\", \"Ajay\", \"ajay\", \"ajay\"}\n",
    "s"
   ]
  },
  {
   "cell_type": "code",
   "execution_count": 51,
   "id": "a0b242ad-6df9-4cf0-bdf2-f0f991d1ef91",
   "metadata": {},
   "outputs": [],
   "source": [
    "#use case\n",
    "list1 = [1, 2, 3, \"Brinjal\", \"Brinjal\", \"Apple\", \"Apple\"]\n",
    "s = set(list1)"
   ]
  },
  {
   "cell_type": "code",
   "execution_count": 52,
   "id": "499d14fc-fb15-484f-9477-62574a6f551d",
   "metadata": {},
   "outputs": [
    {
     "data": {
      "text/plain": [
       "{1, 2, 3, 'Apple', 'Brinjal'}"
      ]
     },
     "execution_count": 52,
     "metadata": {},
     "output_type": "execute_result"
    }
   ],
   "source": [
    "s"
   ]
  },
  {
   "cell_type": "code",
   "execution_count": 53,
   "id": "3bf22bfd-7b9f-4b9b-888c-3d1054e29c55",
   "metadata": {},
   "outputs": [],
   "source": [
    "list1 = list(s)"
   ]
  },
  {
   "cell_type": "code",
   "execution_count": 54,
   "id": "9929a390-8309-4ddf-a174-74353e8092ef",
   "metadata": {},
   "outputs": [
    {
     "data": {
      "text/plain": [
       "[1, 2, 3, 'Brinjal', 'Apple']"
      ]
     },
     "execution_count": 54,
     "metadata": {},
     "output_type": "execute_result"
    }
   ],
   "source": [
    "list1"
   ]
  },
  {
   "cell_type": "code",
   "execution_count": 56,
   "id": "cb4f6807-5ab9-4235-bdb2-81699a5791b2",
   "metadata": {},
   "outputs": [
    {
     "ename": "TypeError",
     "evalue": "'set' object is not subscriptable",
     "output_type": "error",
     "traceback": [
      "\u001b[0;31m---------------------------------------------------------------------------\u001b[0m",
      "\u001b[0;31mTypeError\u001b[0m                                 Traceback (most recent call last)",
      "Cell \u001b[0;32mIn[56], line 1\u001b[0m\n\u001b[0;32m----> 1\u001b[0m \u001b[43ms\u001b[49m\u001b[43m[\u001b[49m\u001b[38;5;241;43m0\u001b[39;49m\u001b[43m]\u001b[49m\n",
      "\u001b[0;31mTypeError\u001b[0m: 'set' object is not subscriptable"
     ]
    }
   ],
   "source": [
    "s[0]"
   ]
  },
  {
   "cell_type": "code",
   "execution_count": 57,
   "id": "d187eafb-244f-429c-a7e7-f66fcef61e86",
   "metadata": {},
   "outputs": [
    {
     "ename": "TypeError",
     "evalue": "'set' object is not subscriptable",
     "output_type": "error",
     "traceback": [
      "\u001b[0;31m---------------------------------------------------------------------------\u001b[0m",
      "\u001b[0;31mTypeError\u001b[0m                                 Traceback (most recent call last)",
      "Cell \u001b[0;32mIn[57], line 1\u001b[0m\n\u001b[0;32m----> 1\u001b[0m \u001b[43ms\u001b[49m\u001b[43m[\u001b[49m\u001b[38;5;241;43m1\u001b[39;49m\u001b[43m]\u001b[49m\n",
      "\u001b[0;31mTypeError\u001b[0m: 'set' object is not subscriptable"
     ]
    }
   ],
   "source": [
    "s[1]"
   ]
  },
  {
   "cell_type": "code",
   "execution_count": 58,
   "id": "cb48aa50-ef9a-4321-a8f9-bb4e521c0ed6",
   "metadata": {},
   "outputs": [
    {
     "data": {
      "text/plain": [
       "{1, 2, 3, 4}"
      ]
     },
     "execution_count": 58,
     "metadata": {},
     "output_type": "execute_result"
    }
   ],
   "source": [
    "s = {1, 1, 2, 2, 3, 4}\n",
    "s"
   ]
  },
  {
   "cell_type": "code",
   "execution_count": 61,
   "id": "751fb04c-ed72-4ef0-bbb1-8c615b0dc27d",
   "metadata": {},
   "outputs": [
    {
     "ename": "TypeError",
     "evalue": "unhashable type: 'set'",
     "output_type": "error",
     "traceback": [
      "\u001b[0;31m---------------------------------------------------------------------------\u001b[0m",
      "\u001b[0;31mTypeError\u001b[0m                                 Traceback (most recent call last)",
      "Cell \u001b[0;32mIn[61], line 1\u001b[0m\n\u001b[0;32m----> 1\u001b[0m s \u001b[38;5;241m=\u001b[39m {\u001b[38;5;241m1\u001b[39m, \u001b[38;5;241m2\u001b[39m, \u001b[38;5;241m3\u001b[39m, \u001b[38;5;241m4\u001b[39m, \u001b[38;5;241m5\u001b[39m, {\u001b[38;5;241m4\u001b[39m, \u001b[38;5;241m5\u001b[39m, \u001b[38;5;241m6\u001b[39m}} \u001b[38;5;66;03m#unhashable type>>it is mutable-list, set\u001b[39;00m\n",
      "\u001b[0;31mTypeError\u001b[0m: unhashable type: 'set'"
     ]
    }
   ],
   "source": [
    "s = {1, 2, 3, 4, 5, {4, 5, 6}} #unhashable type>>it is mutable-list, set\n",
    "#immutable data structure has a stable hash values like tuples"
   ]
  },
  {
   "cell_type": "code",
   "execution_count": 62,
   "id": "1e6d28a6-bea7-4397-9223-ed40dbb940ee",
   "metadata": {},
   "outputs": [
    {
     "ename": "TypeError",
     "evalue": "unhashable type: 'list'",
     "output_type": "error",
     "traceback": [
      "\u001b[0;31m---------------------------------------------------------------------------\u001b[0m",
      "\u001b[0;31mTypeError\u001b[0m                                 Traceback (most recent call last)",
      "Cell \u001b[0;32mIn[62], line 1\u001b[0m\n\u001b[0;32m----> 1\u001b[0m {\u001b[38;5;241m1\u001b[39m, \u001b[38;5;241m2\u001b[39m, \u001b[38;5;241m3\u001b[39m, \u001b[38;5;241m4\u001b[39m, \u001b[38;5;241m5\u001b[39m, [\u001b[38;5;241m4\u001b[39m, \u001b[38;5;241m5\u001b[39m, \u001b[38;5;241m6\u001b[39m]}\n",
      "\u001b[0;31mTypeError\u001b[0m: unhashable type: 'list'"
     ]
    }
   ],
   "source": [
    "{1, 2, 3, 4, 5, [4, 5, 6]}"
   ]
  },
  {
   "cell_type": "code",
   "execution_count": 64,
   "id": "361aa9dc-1578-46fc-a583-8df59d0baf01",
   "metadata": {},
   "outputs": [
    {
     "data": {
      "text/plain": [
       "{(4, 5, 6), 1, 2, 3, 4, 5}"
      ]
     },
     "execution_count": 64,
     "metadata": {},
     "output_type": "execute_result"
    }
   ],
   "source": [
    "{1, 2, 3, 4, 5, (4, 5, 6)} #it didnt throw error, because tuple is immutable>>stable hashtype"
   ]
  },
  {
   "cell_type": "code",
   "execution_count": 66,
   "id": "2a7e3098-3465-4fe3-ae17-77e19f76d2a8",
   "metadata": {},
   "outputs": [
    {
     "ename": "TypeError",
     "evalue": "'set' object is not subscriptable",
     "output_type": "error",
     "traceback": [
      "\u001b[0;31m---------------------------------------------------------------------------\u001b[0m",
      "\u001b[0;31mTypeError\u001b[0m                                 Traceback (most recent call last)",
      "Cell \u001b[0;32mIn[66], line 1\u001b[0m\n\u001b[0;32m----> 1\u001b[0m \u001b[43ms\u001b[49m\u001b[43m[\u001b[49m\u001b[38;5;241;43m0\u001b[39;49m\u001b[43m]\u001b[49m\n",
      "\u001b[0;31mTypeError\u001b[0m: 'set' object is not subscriptable"
     ]
    }
   ],
   "source": [
    "s[0] #not indexed"
   ]
  },
  {
   "cell_type": "code",
   "execution_count": 67,
   "id": "19897e0b-f3c6-4a57-90a7-fd6fcc8e3809",
   "metadata": {},
   "outputs": [
    {
     "ename": "TypeError",
     "evalue": "'set' object is not subscriptable",
     "output_type": "error",
     "traceback": [
      "\u001b[0;31m---------------------------------------------------------------------------\u001b[0m",
      "\u001b[0;31mTypeError\u001b[0m                                 Traceback (most recent call last)",
      "Cell \u001b[0;32mIn[67], line 1\u001b[0m\n\u001b[0;32m----> 1\u001b[0m \u001b[43ms\u001b[49m\u001b[43m[\u001b[49m\u001b[43m:\u001b[49m\u001b[38;5;241;43m2\u001b[39;49m\u001b[43m]\u001b[49m\n",
      "\u001b[0;31mTypeError\u001b[0m: 'set' object is not subscriptable"
     ]
    }
   ],
   "source": [
    "s[:2]"
   ]
  },
  {
   "cell_type": "code",
   "execution_count": 68,
   "id": "9b2428a1-02bb-44b5-a246-31b0b86f2cdb",
   "metadata": {},
   "outputs": [
    {
     "name": "stdout",
     "output_type": "stream",
     "text": [
      "1\n",
      "2\n",
      "3\n",
      "4\n"
     ]
    }
   ],
   "source": [
    "for i in s:\n",
    "    print(i)"
   ]
  },
  {
   "cell_type": "code",
   "execution_count": 70,
   "id": "68a1cede-0982-4d4f-a15f-d6bbd9a9902d",
   "metadata": {},
   "outputs": [],
   "source": [
    "#set is mutable\n",
    "s.add(100)"
   ]
  },
  {
   "cell_type": "code",
   "execution_count": 71,
   "id": "b6ea6b36-25d6-45e7-b626-05d28a1367d5",
   "metadata": {},
   "outputs": [
    {
     "data": {
      "text/plain": [
       "{1, 2, 3, 4, 100}"
      ]
     },
     "execution_count": 71,
     "metadata": {},
     "output_type": "execute_result"
    }
   ],
   "source": [
    "s"
   ]
  },
  {
   "cell_type": "code",
   "execution_count": 72,
   "id": "1335b081-8894-4e05-8f2c-b713a9a289ce",
   "metadata": {},
   "outputs": [],
   "source": [
    "s.add(5) #not compulsory that it will add to the last of set"
   ]
  },
  {
   "cell_type": "code",
   "execution_count": 73,
   "id": "674f642c-3675-4376-a393-0a7f16b9cf46",
   "metadata": {},
   "outputs": [
    {
     "data": {
      "text/plain": [
       "{1, 2, 3, 4, 5, 100}"
      ]
     },
     "execution_count": 73,
     "metadata": {},
     "output_type": "execute_result"
    }
   ],
   "source": [
    "s"
   ]
  },
  {
   "cell_type": "code",
   "execution_count": 74,
   "id": "367168bd-a705-4807-a3db-aad44be8c546",
   "metadata": {},
   "outputs": [
    {
     "data": {
      "text/plain": [
       "1"
      ]
     },
     "execution_count": 74,
     "metadata": {},
     "output_type": "execute_result"
    }
   ],
   "source": [
    "s.pop() #it is not compulsory that it will remove the last element"
   ]
  },
  {
   "cell_type": "code",
   "execution_count": 76,
   "id": "4f05d096-9dbe-4909-9acb-086c0ea80d03",
   "metadata": {},
   "outputs": [],
   "source": [
    "s.remove(3) #removes a spcific element"
   ]
  },
  {
   "cell_type": "code",
   "execution_count": 77,
   "id": "3a2aeaef-d7ea-4f97-a0a4-9b46ed4332b3",
   "metadata": {},
   "outputs": [
    {
     "data": {
      "text/plain": [
       "{2, 4, 5, 100}"
      ]
     },
     "execution_count": 77,
     "metadata": {},
     "output_type": "execute_result"
    }
   ],
   "source": [
    "s"
   ]
  },
  {
   "cell_type": "code",
   "execution_count": 78,
   "id": "a1abf309-3dde-4376-a602-525565a87d62",
   "metadata": {},
   "outputs": [
    {
     "ename": "TypeError",
     "evalue": "set.pop() takes no arguments (1 given)",
     "output_type": "error",
     "traceback": [
      "\u001b[0;31m---------------------------------------------------------------------------\u001b[0m",
      "\u001b[0;31mTypeError\u001b[0m                                 Traceback (most recent call last)",
      "Cell \u001b[0;32mIn[78], line 1\u001b[0m\n\u001b[0;32m----> 1\u001b[0m \u001b[43ms\u001b[49m\u001b[38;5;241;43m.\u001b[39;49m\u001b[43mpop\u001b[49m\u001b[43m(\u001b[49m\u001b[38;5;241;43m4\u001b[39;49m\u001b[43m)\u001b[49m\n",
      "\u001b[0;31mTypeError\u001b[0m: set.pop() takes no arguments (1 given)"
     ]
    }
   ],
   "source": [
    "s.pop(4)#it removes randomly"
   ]
  },
  {
   "cell_type": "code",
   "execution_count": 80,
   "id": "a6018f72-6a4b-481b-84bb-14270d0546f4",
   "metadata": {},
   "outputs": [
    {
     "ename": "KeyError",
     "evalue": "102",
     "output_type": "error",
     "traceback": [
      "\u001b[0;31m---------------------------------------------------------------------------\u001b[0m",
      "\u001b[0;31mKeyError\u001b[0m                                  Traceback (most recent call last)",
      "Cell \u001b[0;32mIn[80], line 1\u001b[0m\n\u001b[0;32m----> 1\u001b[0m \u001b[43ms\u001b[49m\u001b[38;5;241;43m.\u001b[39;49m\u001b[43mremove\u001b[49m\u001b[43m(\u001b[49m\u001b[38;5;241;43m102\u001b[39;49m\u001b[43m)\u001b[49m\n",
      "\u001b[0;31mKeyError\u001b[0m: 102"
     ]
    }
   ],
   "source": [
    "s.remove(102)"
   ]
  },
  {
   "cell_type": "code",
   "execution_count": 82,
   "id": "357b130c-8799-4814-ae2a-3a84af84c609",
   "metadata": {},
   "outputs": [],
   "source": [
    "s.update(\"Ajay\") #updates take iterable"
   ]
  },
  {
   "cell_type": "code",
   "execution_count": 83,
   "id": "956218c1-d46f-4d5c-a6f7-9d1f02b3f34d",
   "metadata": {},
   "outputs": [
    {
     "data": {
      "text/plain": [
       "{100, 2, 4, 5, 'A', 'a', 'j', 'y'}"
      ]
     },
     "execution_count": 83,
     "metadata": {},
     "output_type": "execute_result"
    }
   ],
   "source": [
    "s"
   ]
  },
  {
   "cell_type": "code",
   "execution_count": 84,
   "id": "0ed5f9d3-60ba-46ff-aae3-bfe9fd320371",
   "metadata": {},
   "outputs": [],
   "source": [
    "s.update([\"Ajay\"])"
   ]
  },
  {
   "cell_type": "code",
   "execution_count": 85,
   "id": "7cdad840-71ee-41dd-9b1b-61c483c78ad4",
   "metadata": {},
   "outputs": [
    {
     "data": {
      "text/plain": [
       "{100, 2, 4, 5, 'A', 'Ajay', 'a', 'j', 'y'}"
      ]
     },
     "execution_count": 85,
     "metadata": {},
     "output_type": "execute_result"
    }
   ],
   "source": [
    "s"
   ]
  },
  {
   "cell_type": "code",
   "execution_count": 86,
   "id": "f17f2d65-2632-4406-ba24-eca9f796aaa9",
   "metadata": {},
   "outputs": [],
   "source": [
    "s.update([2, 3])"
   ]
  },
  {
   "cell_type": "code",
   "execution_count": 87,
   "id": "77ef489d-2319-4ca2-97a0-4456fe872d51",
   "metadata": {},
   "outputs": [
    {
     "data": {
      "text/plain": [
       "{100, 2, 3, 4, 5, 'A', 'Ajay', 'a', 'j', 'y'}"
      ]
     },
     "execution_count": 87,
     "metadata": {},
     "output_type": "execute_result"
    }
   ],
   "source": [
    "s"
   ]
  },
  {
   "cell_type": "code",
   "execution_count": 88,
   "id": "037325f8-7aee-4300-b760-1f13846aba09",
   "metadata": {},
   "outputs": [],
   "source": [
    "s = {(1, 2, 3), 100, '2', 3.4}"
   ]
  },
  {
   "cell_type": "code",
   "execution_count": 89,
   "id": "c6248786-f86e-4c66-a48a-4a64be7151a9",
   "metadata": {},
   "outputs": [
    {
     "data": {
      "text/plain": [
       "set"
      ]
     },
     "execution_count": 89,
     "metadata": {},
     "output_type": "execute_result"
    }
   ],
   "source": [
    "type(s)"
   ]
  },
  {
   "cell_type": "code",
   "execution_count": 90,
   "id": "8f113dc1-8908-471e-af5d-c0a33a441ea6",
   "metadata": {},
   "outputs": [],
   "source": [
    "s.clear()"
   ]
  },
  {
   "cell_type": "code",
   "execution_count": 91,
   "id": "05498ab8-e6d2-4fb9-9d5e-b7496b35ad22",
   "metadata": {},
   "outputs": [
    {
     "data": {
      "text/plain": [
       "set()"
      ]
     },
     "execution_count": 91,
     "metadata": {},
     "output_type": "execute_result"
    }
   ],
   "source": [
    "s"
   ]
  },
  {
   "cell_type": "code",
   "execution_count": 92,
   "id": "f10794ee-f5dd-462c-8190-bcded56c7820",
   "metadata": {},
   "outputs": [],
   "source": [
    "del s"
   ]
  },
  {
   "cell_type": "code",
   "execution_count": 93,
   "id": "8938dd9e-be8b-4393-9064-52b4c703aa17",
   "metadata": {},
   "outputs": [
    {
     "ename": "NameError",
     "evalue": "name 's' is not defined",
     "output_type": "error",
     "traceback": [
      "\u001b[0;31m---------------------------------------------------------------------------\u001b[0m",
      "\u001b[0;31mNameError\u001b[0m                                 Traceback (most recent call last)",
      "Cell \u001b[0;32mIn[93], line 1\u001b[0m\n\u001b[0;32m----> 1\u001b[0m \u001b[43ms\u001b[49m\n",
      "\u001b[0;31mNameError\u001b[0m: name 's' is not defined"
     ]
    }
   ],
   "source": [
    "s"
   ]
  },
  {
   "cell_type": "code",
   "execution_count": 94,
   "id": "8adecdbf-21cf-4b41-8d89-cc0a532d62ac",
   "metadata": {},
   "outputs": [],
   "source": [
    "s = {(1, 2, 3), 100,101, 102, '2', 3.4}\n"
   ]
  },
  {
   "cell_type": "code",
   "execution_count": 95,
   "id": "4447dfaf-4ae2-488e-8726-792f83d9f4cc",
   "metadata": {},
   "outputs": [
    {
     "data": {
      "text/plain": [
       "{(1, 2, 3), 100, 101, 102, '2', 3.4}"
      ]
     },
     "execution_count": 95,
     "metadata": {},
     "output_type": "execute_result"
    }
   ],
   "source": [
    "s"
   ]
  },
  {
   "cell_type": "code",
   "execution_count": 96,
   "id": "7499c22a-d289-431c-be42-98703c355253",
   "metadata": {},
   "outputs": [],
   "source": [
    "s.remove(101)"
   ]
  },
  {
   "cell_type": "code",
   "execution_count": 97,
   "id": "405a8202-8fa3-42bf-972d-5823baae5fdf",
   "metadata": {},
   "outputs": [
    {
     "data": {
      "text/plain": [
       "{(1, 2, 3), 100, 102, '2', 3.4}"
      ]
     },
     "execution_count": 97,
     "metadata": {},
     "output_type": "execute_result"
    }
   ],
   "source": [
    "s"
   ]
  },
  {
   "cell_type": "code",
   "execution_count": 98,
   "id": "efae5c98-05c2-4d0e-ae9c-cfc8620447ec",
   "metadata": {},
   "outputs": [
    {
     "ename": "KeyError",
     "evalue": "110",
     "output_type": "error",
     "traceback": [
      "\u001b[0;31m---------------------------------------------------------------------------\u001b[0m",
      "\u001b[0;31mKeyError\u001b[0m                                  Traceback (most recent call last)",
      "Cell \u001b[0;32mIn[98], line 1\u001b[0m\n\u001b[0;32m----> 1\u001b[0m \u001b[43ms\u001b[49m\u001b[38;5;241;43m.\u001b[39;49m\u001b[43mremove\u001b[49m\u001b[43m(\u001b[49m\u001b[38;5;241;43m110\u001b[39;49m\u001b[43m)\u001b[49m\n",
      "\u001b[0;31mKeyError\u001b[0m: 110"
     ]
    }
   ],
   "source": [
    "s.remove(110)#throw an error as 110 is not present"
   ]
  },
  {
   "cell_type": "code",
   "execution_count": 99,
   "id": "a34f1dc5-bb11-4b13-96f6-e2955d72ade4",
   "metadata": {},
   "outputs": [
    {
     "data": {
      "text/plain": [
       "{(1, 2, 3), 100, 102, '2', 3.4}"
      ]
     },
     "execution_count": 99,
     "metadata": {},
     "output_type": "execute_result"
    }
   ],
   "source": [
    "s"
   ]
  },
  {
   "cell_type": "code",
   "execution_count": 100,
   "id": "4d74ff21-a9e9-469d-9fe3-4e61805a01fb",
   "metadata": {},
   "outputs": [],
   "source": [
    "s.discard(100)"
   ]
  },
  {
   "cell_type": "code",
   "execution_count": 101,
   "id": "c088d3b8-3d27-49e3-bcf5-bc0a775c7033",
   "metadata": {},
   "outputs": [
    {
     "data": {
      "text/plain": [
       "{(1, 2, 3), 102, '2', 3.4}"
      ]
     },
     "execution_count": 101,
     "metadata": {},
     "output_type": "execute_result"
    }
   ],
   "source": [
    "s"
   ]
  },
  {
   "cell_type": "code",
   "execution_count": 102,
   "id": "aba725f6-031b-4a40-8053-9e9fc829f748",
   "metadata": {},
   "outputs": [],
   "source": [
    "s.discard(110)#error will not be thrown unlikely remove if the element is not present"
   ]
  },
  {
   "cell_type": "code",
   "execution_count": 103,
   "id": "52fecb89-3389-42c3-8135-77e64de5bacb",
   "metadata": {},
   "outputs": [
    {
     "data": {
      "text/plain": [
       "{(1, 2, 3), 102, '2', 3.4}"
      ]
     },
     "execution_count": 103,
     "metadata": {},
     "output_type": "execute_result"
    }
   ],
   "source": [
    "s"
   ]
  },
  {
   "cell_type": "code",
   "execution_count": 104,
   "id": "e8e3fba9-5545-436f-82e4-380838f132f3",
   "metadata": {},
   "outputs": [],
   "source": [
    "#set operations\n",
    "#Union: combines elements from two sets excluding duplicates\n",
    "#Intersection: only common elements btw sets\n",
    "#difference: return the elements that is present in first set and not in second\n",
    "#symmetric difference: returns elements that are present in either of sets but not in both"
   ]
  },
  {
   "cell_type": "code",
   "execution_count": 105,
   "id": "6f97ec6a-317e-4f4f-a4ff-48691c99b5c5",
   "metadata": {},
   "outputs": [],
   "source": [
    "s1 = {\"hiking\", \"reading\", \"coding\"}\n",
    "s2 = {\"coding\", \"photography\", \"travelling\"}"
   ]
  },
  {
   "cell_type": "code",
   "execution_count": 106,
   "id": "6779dd2e-8f07-4202-93dc-d37b991c5aee",
   "metadata": {},
   "outputs": [
    {
     "data": {
      "text/plain": [
       "{'coding', 'hiking', 'reading'}"
      ]
     },
     "execution_count": 106,
     "metadata": {},
     "output_type": "execute_result"
    }
   ],
   "source": [
    "s1"
   ]
  },
  {
   "cell_type": "code",
   "execution_count": 107,
   "id": "8c502691-763f-4777-8245-b337e9fabce7",
   "metadata": {},
   "outputs": [
    {
     "data": {
      "text/plain": [
       "{'coding', 'photography', 'travelling'}"
      ]
     },
     "execution_count": 107,
     "metadata": {},
     "output_type": "execute_result"
    }
   ],
   "source": [
    "s2"
   ]
  },
  {
   "cell_type": "code",
   "execution_count": 109,
   "id": "b58a88c5-7f5c-4f57-88ee-5088ead78d5b",
   "metadata": {},
   "outputs": [
    {
     "data": {
      "text/plain": [
       "{'coding', 'hiking', 'photography', 'reading', 'travelling'}"
      ]
     },
     "execution_count": 109,
     "metadata": {},
     "output_type": "execute_result"
    }
   ],
   "source": [
    "#union>> combine all the elements\n",
    "s1 | s2"
   ]
  },
  {
   "cell_type": "code",
   "execution_count": 110,
   "id": "cf2aa0e8-4949-4f9f-b03e-8dbb41e342b3",
   "metadata": {},
   "outputs": [
    {
     "data": {
      "text/plain": [
       "{'coding'}"
      ]
     },
     "execution_count": 110,
     "metadata": {},
     "output_type": "execute_result"
    }
   ],
   "source": [
    "#intersection >> common elements\n",
    "s1 & s2"
   ]
  },
  {
   "cell_type": "code",
   "execution_count": 111,
   "id": "e23ba50c-d30e-497f-83f6-8a3bf5f8567c",
   "metadata": {},
   "outputs": [
    {
     "data": {
      "text/plain": [
       "{'hiking', 'reading'}"
      ]
     },
     "execution_count": 111,
     "metadata": {},
     "output_type": "execute_result"
    }
   ],
   "source": [
    "#difference\n",
    "s1-s2"
   ]
  },
  {
   "cell_type": "code",
   "execution_count": 112,
   "id": "95403388-cb1e-4d32-8734-04ee4bb54bb4",
   "metadata": {},
   "outputs": [
    {
     "data": {
      "text/plain": [
       "{'hiking', 'photography', 'reading', 'travelling'}"
      ]
     },
     "execution_count": 112,
     "metadata": {},
     "output_type": "execute_result"
    }
   ],
   "source": [
    "#symmetric difference\n",
    "s1 ^ s2"
   ]
  },
  {
   "cell_type": "code",
   "execution_count": 113,
   "id": "cb2e44a1-829e-429c-91d7-30d219532017",
   "metadata": {},
   "outputs": [],
   "source": [
    "#frozen sets"
   ]
  },
  {
   "cell_type": "code",
   "execution_count": 114,
   "id": "3aebad0a-1942-4f8e-8672-45d7e1d9d90e",
   "metadata": {},
   "outputs": [],
   "source": [
    "s = {1, 2, 3}\n",
    "s.add(100)"
   ]
  },
  {
   "cell_type": "code",
   "execution_count": 115,
   "id": "31340586-7218-4980-ac61-ae0d5ca60574",
   "metadata": {},
   "outputs": [
    {
     "data": {
      "text/plain": [
       "{1, 2, 3, 100}"
      ]
     },
     "execution_count": 115,
     "metadata": {},
     "output_type": "execute_result"
    }
   ],
   "source": [
    "s"
   ]
  },
  {
   "cell_type": "code",
   "execution_count": 116,
   "id": "d715fa1c-85d9-4454-93a8-cb3313f96153",
   "metadata": {},
   "outputs": [],
   "source": [
    "#frozen sets>>immutable version of set, cannot be added or removed any new element\n",
    "my_fs = frozenset([1, 2, 2, 2, 3, 3, 4, 5])"
   ]
  },
  {
   "cell_type": "code",
   "execution_count": 117,
   "id": "e3989ba1-35a4-4274-ab96-23ea9452202d",
   "metadata": {},
   "outputs": [
    {
     "data": {
      "text/plain": [
       "frozenset({1, 2, 3, 4, 5})"
      ]
     },
     "execution_count": 117,
     "metadata": {},
     "output_type": "execute_result"
    }
   ],
   "source": [
    "my_fs"
   ]
  },
  {
   "cell_type": "code",
   "execution_count": 118,
   "id": "7301cc43-4488-443f-ae2d-d728c1011310",
   "metadata": {},
   "outputs": [
    {
     "data": {
      "text/plain": [
       "frozenset"
      ]
     },
     "execution_count": 118,
     "metadata": {},
     "output_type": "execute_result"
    }
   ],
   "source": [
    "type(my_fs)"
   ]
  },
  {
   "cell_type": "code",
   "execution_count": 119,
   "id": "dd0a9c71-8ade-4b31-94f0-1bc6ff7e8c4a",
   "metadata": {},
   "outputs": [
    {
     "ename": "AttributeError",
     "evalue": "'frozenset' object has no attribute 'add'",
     "output_type": "error",
     "traceback": [
      "\u001b[0;31m---------------------------------------------------------------------------\u001b[0m",
      "\u001b[0;31mAttributeError\u001b[0m                            Traceback (most recent call last)",
      "Cell \u001b[0;32mIn[119], line 1\u001b[0m\n\u001b[0;32m----> 1\u001b[0m \u001b[43mmy_fs\u001b[49m\u001b[38;5;241;43m.\u001b[39;49m\u001b[43madd\u001b[49m(\u001b[38;5;241m5\u001b[39m)\n",
      "\u001b[0;31mAttributeError\u001b[0m: 'frozenset' object has no attribute 'add'"
     ]
    }
   ],
   "source": [
    "my_fs.add(5)"
   ]
  },
  {
   "cell_type": "code",
   "execution_count": 120,
   "id": "6095831a-05e5-4e7f-ad82-3be3f7c01126",
   "metadata": {},
   "outputs": [
    {
     "ename": "AttributeError",
     "evalue": "'frozenset' object has no attribute 'add'",
     "output_type": "error",
     "traceback": [
      "\u001b[0;31m---------------------------------------------------------------------------\u001b[0m",
      "\u001b[0;31mAttributeError\u001b[0m                            Traceback (most recent call last)",
      "Cell \u001b[0;32mIn[120], line 1\u001b[0m\n\u001b[0;32m----> 1\u001b[0m \u001b[43mmy_fs\u001b[49m\u001b[38;5;241;43m.\u001b[39;49m\u001b[43madd\u001b[49m(\u001b[38;5;241m5\u001b[39m, \u001b[38;5;241m6\u001b[39m)\n",
      "\u001b[0;31mAttributeError\u001b[0m: 'frozenset' object has no attribute 'add'"
     ]
    }
   ],
   "source": [
    "my_fs.add(5, 6)"
   ]
  },
  {
   "cell_type": "code",
   "execution_count": 121,
   "id": "7c9b144d-21b1-42f4-ae37-9ff654600c96",
   "metadata": {},
   "outputs": [
    {
     "ename": "AttributeError",
     "evalue": "'frozenset' object has no attribute 'pop'",
     "output_type": "error",
     "traceback": [
      "\u001b[0;31m---------------------------------------------------------------------------\u001b[0m",
      "\u001b[0;31mAttributeError\u001b[0m                            Traceback (most recent call last)",
      "Cell \u001b[0;32mIn[121], line 1\u001b[0m\n\u001b[0;32m----> 1\u001b[0m \u001b[43mmy_fs\u001b[49m\u001b[38;5;241;43m.\u001b[39;49m\u001b[43mpop\u001b[49m()\n",
      "\u001b[0;31mAttributeError\u001b[0m: 'frozenset' object has no attribute 'pop'"
     ]
    }
   ],
   "source": [
    "my_fs.pop()"
   ]
  },
  {
   "cell_type": "code",
   "execution_count": null,
   "id": "a8aa9c9f-f9d4-4991-a710-af4ea353f990",
   "metadata": {},
   "outputs": [],
   "source": []
  }
 ],
 "metadata": {
  "kernelspec": {
   "display_name": "Python 3 (ipykernel)",
   "language": "python",
   "name": "python3"
  },
  "language_info": {
   "codemirror_mode": {
    "name": "ipython",
    "version": 3
   },
   "file_extension": ".py",
   "mimetype": "text/x-python",
   "name": "python",
   "nbconvert_exporter": "python",
   "pygments_lexer": "ipython3",
   "version": "3.10.8"
  }
 },
 "nbformat": 4,
 "nbformat_minor": 5
}
